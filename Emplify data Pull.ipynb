{
    "cells": [
        {
            "cell_type": "code",
            "execution_count": null,
            "metadata": {
                "azdata_cell_guid": "dd2b6242-370f-4fe0-830d-2720017d608b",
                "language": "python"
            },
            "outputs": [],
            "source": [
                "from dotenv import load_dotenv\n",
                "import os\n",
                "import requests\n",
                "import pandas as pd\n",
                "import json\n",
                "import os\n",
                "import sys\n",
                "load_dotenv()\n"
            ]
        },
        {
            "cell_type": "code",
            "execution_count": 26,
            "metadata": {
                "azdata_cell_guid": "d9af4ea8-73ac-4c24-b66c-289233a3e0e1",
                "language": "python",
                "tags": []
            },
            "outputs": [],
            "source": [
                "## SSL Certificate - local solution for SSL encryption\n",
                "\n",
                "#Authentication\n",
                "\n",
                "token = os.getenv(\"emplify_token\") # this is fetching my username from .env file - to be moved to azure vault from .env on deployment\n",
                "\n",
                "secret = os.getenv(\"emplify_secret\") # this is fetching my password from .env file - to be moved to azure vault from .env on deployment\n",
                "\n",
                "cert_path = os.getenv(\"SSL_cert_loc\") # this is fetching an SSL certificate due - is a workaround for local setup and can be removed on deployment\n",
                "\n",
                "auth = (token, secret)\n"
            ]
        },
        {
            "cell_type": "code",
            "execution_count": 27,
            "metadata": {
                "azdata_cell_guid": "ee6ebc12-8631-4765-8bad-cb2d4d407c17",
                "language": "python"
            },
            "outputs": [],
            "source": [
                "## Dim_social_profiles\n",
                "\n",
                "networks = ['facebook', 'instagram', 'twitter', 'youtube', 'tiktok'] # selection of s_media accounts\n",
                "profiles = pd.DataFrame()  # empty dataframe initiation\n",
                "\n",
                "for n in networks:\n",
                "    url = 'https://api.emplifi.io/3/'+n+'/profiles'\n",
                "    body = ''\n",
                "    r = requests.get(url, auth = auth, verify = cert_path)\n",
                "    req_json = json.loads(r.text)\n",
                "    new_row_df = pd.json_normalize(req_json, 'profiles', ['success'])\n",
                "    new_row_df['network'] = n\n",
                "    profiles = pd.concat([profiles, new_row_df], ignore_index = True) #profiles dataframe holds list of social media profiles metrics will be fetched for. To be exported as dim_social_profiles\n",
                "    \n",
                "    "
            ]
        },
        {
            "attachments": {},
            "cell_type": "markdown",
            "metadata": {
                "azdata_cell_guid": "987b6c51-88fc-4769-bf36-4d30cec529df"
            },
            "source": []
        },
        {
            "cell_type": "code",
            "execution_count": 28,
            "metadata": {
                "azdata_cell_guid": "f166924d-2842-4f47-a3fb-8151afd8962d",
                "language": "python"
            },
            "outputs": [],
            "source": [
                "#Creating a list of metrics to pull and declaring start and end date\n",
                "agg_mettrics = ['insights_impressions','insights_video_views','insights_engagements','likes','number_of_comments']\n",
                "start_date = '2024-07-03'\n",
                "end_date = '2024-10-08'\n"
            ]
        },
        {
            "cell_type": "code",
            "execution_count": null,
            "metadata": {
                "azdata_cell_guid": "4af03421-9aa0-4533-a0c1-588466b31b8f",
                "language": "python"
            },
            "outputs": [],
            "source": [
                "## Filtering to those who have insights enabled and getting a dictionary as an input\n",
                "\n",
                "profiles_filter = profiles[(profiles['profile_name'].str.lower().str.contains('triumph')) & (profiles['insights_enabled'] == True)]\n",
                "\n",
                "profiles2 = profiles_filter.rename(columns={'network':'platform'})\n",
                "\n",
                "prof = profiles2[['id', 'platform']].to_dict('records')\n",
                "print (\"Profiles list fetched successfully\" )\n",
                "prof\n"
            ]
        },
        {
            "cell_type": "code",
            "execution_count": 30,
            "metadata": {
                "azdata_cell_guid": "d7cae7b0-ba5e-46ae-9b41-621dea303909",
                "language": "python"
            },
            "outputs": [],
            "source": [
                "## Function to fetch aggregated metrics at profile level\n",
                "\n",
                "def fetch_insights_data(profiles, date_start, date_end, metric):\n",
                "    body = {\n",
                "        \"profiles\": profiles,\n",
                "        \"date_start\": date_start,\n",
                "        \"date_end\": date_end,\n",
                "        \"metric\": metric,\n",
                "        \"dimensions\": [\n",
                "            {\"type\": \"date.day\"},\n",
                "            {\"type\": \"profile\"}\n",
                "        ]\n",
                "    }\n",
                "    url = 'https://api.emplifi.io/3/aggregated-metrics'\n",
                "    \n",
                "   \n",
                "    response = requests.post(url, json=body, auth=auth, verify=cert_path)\n",
                "    return json.loads(response.text)\n"
            ]
        },
        {
            "cell_type": "code",
            "execution_count": 31,
            "metadata": {
                "azdata_cell_guid": "62721d8c-1e65-4814-b024-b06cd448eb66",
                "language": "python"
            },
            "outputs": [],
            "source": [
                "# Function to tranform metrics json at profile level\n",
                "def transform_dict(dict):\n",
                "    dates = dict['header'][0]['rows']\n",
                "    profiles = [f\"{p['id']}\" for p in dict['header'][1]['rows']]\n",
                "    platform = [f\"({p['platform']})\" for p in dict['header'][1]['rows']]\n",
                "    metric = dict['header'][2]['rows'][0]\n",
                "    data = dict['data']\n",
                "\n",
                "# Preparing data for DataFrame\n",
                "    df_data = {\n",
                "        'profile': [],\n",
                "        'date': [],\n",
                "        'metric': [],\n",
                "        'data': []\n",
                "    }\n",
                "\n",
                "    for i, profile in enumerate(profiles):\n",
                "        for j, date in enumerate(dates):\n",
                "            df_data['profile'].append(profile)\n",
                "            df_data['date'].append(date)\n",
                "            df_data['metric'].append(metric)\n",
                "            df_data['data'].append(data[j][i][0] if data[j][i] else None)\n",
                "\n",
                "    # Creating DataFrame\n",
                "    df = pd.DataFrame(df_data)\n",
                "    return df"
            ]
        },
        {
            "cell_type": "code",
            "execution_count": null,
            "metadata": {
                "azdata_cell_guid": "88368bc6-a6ef-491c-83aa-3a68c1cdb642",
                "language": "python"
            },
            "outputs": [],
            "source": [
                "#Aggregated Profile metrics\n",
                "df_list = []  # Initialize an empty list\n",
                "\n",
                "\n",
                "for met in agg_mettrics:\n",
                "    dat = transform_dict(fetch_insights_data(prof,start_date,end_date,met)) # utilising prof list of profiles, met as metric for each item in agg_metrics\n",
                "    df_list.append(dat)  # Append the data frame to the list\n",
                "\n",
                "\n",
                "    \n",
                "# Concatenate all data frames in the list\n",
                "prof_lev_met_agg = pd.concat(df_list) \n",
                "prof_lev_met_agg"
            ]
        },
        {
            "attachments": {},
            "cell_type": "markdown",
            "metadata": {
                "azdata_cell_guid": "9715c451-9ea1-498d-ac0c-0201c464de6e"
            },
            "source": [
                "# Post Level Metrics"
            ]
        },
        {
            "cell_type": "code",
            "execution_count": null,
            "metadata": {
                "azdata_cell_guid": "cb098d74-5a3c-453d-a005-15421e483751",
                "language": "python"
            },
            "outputs": [],
            "source": [
                "##Pulling in Post Labels - for dim_posts table\n",
                "url = 'https://api.emplifi.io/3/post/labels'\n",
                "r = requests.get(url, auth = auth, verify = cert_path)\n",
                "posts = json.loads(r.text)\n",
                "\n",
                "data = posts['data']        \n",
                "\n",
                "# Creating DataFrame\n",
                "posts = pd.DataFrame(data)\n",
                "posts\n"
            ]
        },
        {
            "cell_type": "code",
            "execution_count": 34,
            "metadata": {
                "azdata_cell_guid": "5e22f5a9-0e0f-490b-9800-174db5963df8",
                "language": "python"
            },
            "outputs": [],
            "source": [
                "## Function fetching post level metrics \n",
                "\n",
                "def fetch_insights_data_post_lev(profiles, date_start, date_end, metric):\n",
                "    body = {\n",
                "        \"profiles\": profiles,\n",
                "        \"date_start\": date_start,\n",
                "        \"date_end\": date_end,\n",
                "        \"metric\": metric,\n",
                "        \"dimensions\": [\n",
                "            {\"type\": \"date.day\"},\n",
                "           \n",
                "            {\"type\": \"post_labels\"}\n",
                "        ]\n",
                "    }\n",
                "    url = 'https://api.emplifi.io/3/aggregated-metrics'\n",
                "    \n",
                "   \n",
                "    response = requests.post(url, json=body, auth=auth, verify=cert_path)\n",
                "    return json.loads(response.text)"
            ]
        },
        {
            "cell_type": "code",
            "execution_count": 35,
            "metadata": {
                "azdata_cell_guid": "b2d6f774-775d-4455-86d9-2bc24505194a",
                "language": "python"
            },
            "outputs": [],
            "source": [
                "# Function transforming data frame with post level metrics\n",
                "\n",
                "def transform_dict_post(dict):\n",
                "    dates = dict['header'][0]['rows']\n",
                "    post_labels = dict['header'][1]['rows']\n",
                "    metric = dict['header'][2]['rows'][0]\n",
                "    data = dict['data']\n",
                "\n",
                "    # Preparing data for DataFrame\n",
                "    df_data = {\n",
                "        'date': [],\n",
                "        'post_label': [],\n",
                "        'metric': [],\n",
                "        'data': []\n",
                "    }\n",
                "\n",
                "    for i, post_label in enumerate(post_labels):\n",
                "        for j, date in enumerate(dates):\n",
                "            df_data['date'].append(date)\n",
                "            df_data['post_label'].append(post_label)\n",
                "            df_data['metric'].append(metric)\n",
                "            df_data['data'].append(data[j][i][0] if data[j][i] else None)\n",
                "\n",
                "    # Creating DataFrame\n",
                "    df = pd.DataFrame(df_data)\n",
                "    return df"
            ]
        },
        {
            "cell_type": "code",
            "execution_count": 36,
            "metadata": {
                "azdata_cell_guid": "86cf5c59-048a-4e2c-b71a-f5904665b1aa",
                "language": "python"
            },
            "outputs": [],
            "source": [
                "# Main Run of function that fetches and transforms dataframe with Post (fact_posts)\n",
                "df_list = []  # Initialize an empty list\n",
                "\n",
                "for met in agg_mettrics:\n",
                "    dat = transform_dict_post(fetch_insights_data_post_lev(prof,start_date,end_date,met))\n",
                "    df_list.append(dat)  # Append the data frame to the list\n",
                "\n",
                "    \n",
                "# Concatenate all data frames in the list\n",
                "final_df = pd.concat(df_list) "
            ]
        },
        {
            "cell_type": "code",
            "execution_count": null,
            "metadata": {
                "azdata_cell_guid": "5198a4f2-48c8-4a81-a145-6c13dc959b29",
                "language": "python"
            },
            "outputs": [],
            "source": [
                "final_df"
            ]
        }
    ],
    "metadata": {
        "kernelspec": {
            "display_name": "Python 3",
            "language": "python",
            "name": "python3"
        },
        "language_info": {
            "codemirror_mode": {
                "name": "ipython",
                "version": 3
            },
            "file_extension": ".py",
            "mimetype": "text/x-python",
            "name": "python",
            "nbconvert_exporter": "python",
            "pygments_lexer": "ipython3",
            "version": "3.11.5"
        }
    },
    "nbformat": 4,
    "nbformat_minor": 2
}
